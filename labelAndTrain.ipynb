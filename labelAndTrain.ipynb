{
 "cells": [
  {
   "cell_type": "code",
   "execution_count": null,
   "id": "97db9d8e-f3e6-4411-aa07-88bdfc914eaa",
   "metadata": {},
   "outputs": [],
   "source": [
    "import os\n",
    "import ipywidgets as widgets\n",
    "import cv2\n",
    "import numpy as np\n",
    "import matplotlib.pyplot as plt\n",
    "\n",
    "rng = np.random.default_rng()\n",
    "%matplotlib inline"
   ]
  },
  {
   "cell_type": "markdown",
   "id": "26cac187-08fa-4f50-996b-5a0bfea3d8e1",
   "metadata": {},
   "source": [
    "# Import Video Files"
   ]
  },
  {
   "cell_type": "code",
   "execution_count": null,
   "id": "51619538-0bfd-4891-a3d6-e4c23901ff1f",
   "metadata": {},
   "outputs": [],
   "source": [
    "infile = widgets.Text(\n",
    "    value='',\n",
    "    placeholder='filepath',\n",
    "    description='Input file:',\n",
    "    disabled=False   \n",
    ")\n",
    "infile"
   ]
  },
  {
   "cell_type": "code",
   "execution_count": null,
   "id": "41cbf9ce-306b-429c-bd33-18d914658cf8",
   "metadata": {},
   "outputs": [],
   "source": [
    "def sample_from_video(filepath,\n",
    "                      target_sample_size,\n",
    "                      tail_cut_frames = 30, # fudge factor to avoid falling off the end of the video\n",
    "                      out_dir = \"./TEMP\",\n",
    "                      out_prefix = \"frame\",\n",
    "                     ):\n",
    "    \"\"\"\n",
    "    Opens the given video file, takes a sample of frames, writes the sample to out_dir.\n",
    "    Returns the list of files written or None if error.\n",
    "    \"\"\"\n",
    "    v = cv2.VideoCapture(filepath)\n",
    "    if not v.isOpened():\n",
    "        print(f\"Failed to read video from {filepath}\")\n",
    "        return None\n",
    "        \n",
    "    n_frames = int(v.get(cv2.CAP_PROP_FRAME_COUNT))\n",
    "    print(f\"Opened video with approx. {n_frames} frames\")\n",
    "    \n",
    "    sampled_idxs = rng.choice(np.arange(n_frames - tail_cut_frames), size = target_sample_size, replace = False)\n",
    "    sampled_idxs.sort()\n",
    "    \n",
    "    frames = []\n",
    "    i = 0\n",
    "    done = False\n",
    "    for idx in sampled_idxs:\n",
    "        while True:\n",
    "            ret, frame = v.read()\n",
    "            i += 1\n",
    "            if not ret:\n",
    "                print(f\"Failed to read video at frame {i}: sample might be smaller than requested due to error in opencv's frame count estimate\")\n",
    "                done = True\n",
    "                break\n",
    "            if i > idx:\n",
    "                break\n",
    "    \n",
    "        if done:\n",
    "            break\n",
    "            \n",
    "        frames.append(frame)\n",
    "    print(f\"Writing {len(frames)} frames to {out_dir}.\")\n",
    "    try:\n",
    "        os.mkdir(out_dir)\n",
    "    except (FileExistsError, FileNotFoundError) as e:\n",
    "        print(f\"Failed to make a new directory at {out_dir}: {e}\")\n",
    "        return None\n",
    "\n",
    "    filenames = []\n",
    "    for i, f in enumerate(frames):\n",
    "        filename = f\"{out_dir}/{out_prefix}_{i}.jpg\"\n",
    "        cv2.imwrite(filename, f)\n",
    "        filenames.append(filename)\n",
    "\n",
    "    return filenames\n",
    "\n",
    "filepath = infile.value\n",
    "if not os.path.isfile(filepath):\n",
    "    print(f\"Failed to read from \\\"{filepath}\\\"\")\n",
    "else:\n",
    "    filenames = sample_from_video(filepath, target_sample_size = 5)"
   ]
  },
  {
   "cell_type": "code",
   "execution_count": null,
   "id": "abd90926-e01d-4a37-89b7-0b26a957d167",
   "metadata": {},
   "outputs": [],
   "source": [
    "def view_image(i):\n",
    "    file = open(filenames[i], \"rb\")\n",
    "    image = file.read()\n",
    "    img = widgets.Image(\n",
    "        value=image,\n",
    "        format='jpeg',\n",
    "    )\n",
    "    return img\n",
    "widgets.interact(view_image, i=(0,len(filenames)-1))"
   ]
  },
  {
   "cell_type": "code",
   "execution_count": null,
   "id": "cbd60221-d28d-49e3-9128-03c94b9f5d68",
   "metadata": {},
   "outputs": [],
   "source": []
  },
  {
   "cell_type": "markdown",
   "id": "2ac57bbe-f28b-4f9e-8afe-1582c70f74cb",
   "metadata": {},
   "source": [
    "# Label"
   ]
  },
  {
   "cell_type": "code",
   "execution_count": null,
   "id": "4a131122-d6c7-4f8a-abbb-a8d6dd9622cd",
   "metadata": {},
   "outputs": [],
   "source": []
  },
  {
   "cell_type": "markdown",
   "id": "f481495d-a82e-43f3-b756-7d425f5e0c41",
   "metadata": {},
   "source": [
    "# Train"
   ]
  },
  {
   "cell_type": "code",
   "execution_count": null,
   "id": "0722e1bc-41e9-4ca8-9282-85604f81e4a0",
   "metadata": {},
   "outputs": [],
   "source": []
  }
 ],
 "metadata": {
  "kernelspec": {
   "display_name": "Python 3 (ipykernel)",
   "language": "python",
   "name": "python3"
  },
  "language_info": {
   "codemirror_mode": {
    "name": "ipython",
    "version": 3
   },
   "file_extension": ".py",
   "mimetype": "text/x-python",
   "name": "python",
   "nbconvert_exporter": "python",
   "pygments_lexer": "ipython3",
   "version": "3.12.10"
  }
 },
 "nbformat": 4,
 "nbformat_minor": 5
}
